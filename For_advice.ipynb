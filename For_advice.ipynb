{
 "cells": [
  {
   "cell_type": "code",
   "execution_count": 1,
   "metadata": {},
   "outputs": [],
   "source": [
    "import os\n",
    "import json\n",
    "import pickle\n",
    "from bisect import bisect_left, bisect_right\n",
    "from datetime import datetime, timedelta\n",
    "from collections import defaultdict, Counter\n",
    "\n",
    "import numpy as np\n",
    "import pandas as pd\n",
    "from tqdm import tqdm"
   ]
  },
  {
   "cell_type": "code",
   "execution_count": 2,
   "metadata": {},
   "outputs": [
    {
     "data": {
      "text/html": [
       "<div>\n",
       "<style scoped>\n",
       "    .dataframe tbody tr th:only-of-type {\n",
       "        vertical-align: middle;\n",
       "    }\n",
       "\n",
       "    .dataframe tbody tr th {\n",
       "        vertical-align: top;\n",
       "    }\n",
       "\n",
       "    .dataframe thead th {\n",
       "        text-align: right;\n",
       "    }\n",
       "</style>\n",
       "<table border=\"1\" class=\"dataframe\">\n",
       "  <thead>\n",
       "    <tr style=\"text-align: right;\">\n",
       "      <th></th>\n",
       "      <th>party_rk</th>\n",
       "      <th>account_rk</th>\n",
       "      <th>financial_account_type_cd</th>\n",
       "      <th>transaction_dttm</th>\n",
       "      <th>transaction_type_desc</th>\n",
       "      <th>transaction_amt_rur</th>\n",
       "      <th>merchant_rk</th>\n",
       "      <th>merchant_type</th>\n",
       "      <th>merchant_group_rk</th>\n",
       "      <th>category</th>\n",
       "    </tr>\n",
       "  </thead>\n",
       "  <tbody>\n",
       "    <tr>\n",
       "      <td>0</td>\n",
       "      <td>20337</td>\n",
       "      <td>19666</td>\n",
       "      <td>1</td>\n",
       "      <td>2019-01-01</td>\n",
       "      <td>Покупка</td>\n",
       "      <td>84.00</td>\n",
       "      <td>88676.0</td>\n",
       "      <td>348.0</td>\n",
       "      <td>NaN</td>\n",
       "      <td>Сувениры</td>\n",
       "    </tr>\n",
       "    <tr>\n",
       "      <td>1</td>\n",
       "      <td>63404</td>\n",
       "      <td>72991</td>\n",
       "      <td>1</td>\n",
       "      <td>2019-01-01</td>\n",
       "      <td>Покупка</td>\n",
       "      <td>410.00</td>\n",
       "      <td>887248.0</td>\n",
       "      <td>330.0</td>\n",
       "      <td>725.0</td>\n",
       "      <td>Фаст Фуд</td>\n",
       "    </tr>\n",
       "    <tr>\n",
       "      <td>2</td>\n",
       "      <td>24789</td>\n",
       "      <td>23517</td>\n",
       "      <td>2</td>\n",
       "      <td>2019-01-01</td>\n",
       "      <td>Покупка</td>\n",
       "      <td>701.44</td>\n",
       "      <td>830014.0</td>\n",
       "      <td>291.0</td>\n",
       "      <td>NaN</td>\n",
       "      <td>Супермаркеты</td>\n",
       "    </tr>\n",
       "    <tr>\n",
       "      <td>3</td>\n",
       "      <td>57970</td>\n",
       "      <td>64838</td>\n",
       "      <td>2</td>\n",
       "      <td>2019-01-01</td>\n",
       "      <td>Покупка</td>\n",
       "      <td>6203.70</td>\n",
       "      <td>363834.0</td>\n",
       "      <td>278.0</td>\n",
       "      <td>454.0</td>\n",
       "      <td>Дом/Ремонт</td>\n",
       "    </tr>\n",
       "    <tr>\n",
       "      <td>4</td>\n",
       "      <td>12232</td>\n",
       "      <td>11591</td>\n",
       "      <td>2</td>\n",
       "      <td>2019-01-01</td>\n",
       "      <td>Покупка</td>\n",
       "      <td>734.53</td>\n",
       "      <td>85919.0</td>\n",
       "      <td>286.0</td>\n",
       "      <td>878.0</td>\n",
       "      <td>Супермаркеты</td>\n",
       "    </tr>\n",
       "  </tbody>\n",
       "</table>\n",
       "</div>"
      ],
      "text/plain": [
       "   party_rk  account_rk  financial_account_type_cd transaction_dttm  \\\n",
       "0     20337       19666                          1       2019-01-01   \n",
       "1     63404       72991                          1       2019-01-01   \n",
       "2     24789       23517                          2       2019-01-01   \n",
       "3     57970       64838                          2       2019-01-01   \n",
       "4     12232       11591                          2       2019-01-01   \n",
       "\n",
       "  transaction_type_desc  transaction_amt_rur  merchant_rk  merchant_type  \\\n",
       "0               Покупка                84.00      88676.0          348.0   \n",
       "1               Покупка               410.00     887248.0          330.0   \n",
       "2               Покупка               701.44     830014.0          291.0   \n",
       "3               Покупка              6203.70     363834.0          278.0   \n",
       "4               Покупка               734.53      85919.0          286.0   \n",
       "\n",
       "   merchant_group_rk      category  \n",
       "0                NaN      Сувениры  \n",
       "1              725.0      Фаст Фуд  \n",
       "2                NaN  Супермаркеты  \n",
       "3              454.0    Дом/Ремонт  \n",
       "4              878.0  Супермаркеты  "
      ]
     },
     "execution_count": 2,
     "metadata": {},
     "output_type": "execute_result"
    }
   ],
   "source": [
    "DATADIR = \"hackathon_data\" # \"./data\"\n",
    "transactions_path = f\"{DATADIR}/avk_hackathon_data_transactions.csv\"\n",
    "pd.read_csv(f\"{DATADIR}/avk_hackathon_data_transactions.csv\", nrows=5)"
   ]
  },
  {
   "cell_type": "code",
   "execution_count": 195,
   "metadata": {},
   "outputs": [],
   "source": [
    "trans = pd.read_csv(f\"{DATADIR}/avk_hackathon_data_transactions.csv\")"
   ]
  },
  {
   "cell_type": "code",
   "execution_count": 148,
   "metadata": {},
   "outputs": [],
   "source": [
    "data_trans_train = trans[pd.to_datetime(trans.transaction_dttm) < pd.to_datetime('2019-11-01')]"
   ]
  },
  {
   "cell_type": "code",
   "execution_count": 153,
   "metadata": {},
   "outputs": [],
   "source": [
    "month = []\n",
    "for x in range(1,10):\n",
    "    month.append(pd.to_datetime(f'2019-0{x}-01'))\n",
    "for x in range(10,13):\n",
    "    month.append(pd.to_datetime(f'2019-{x}-01'))"
   ]
  },
  {
   "cell_type": "code",
   "execution_count": 154,
   "metadata": {},
   "outputs": [],
   "source": [
    "party_tr = data_trans_train.party_rk.unique()"
   ]
  },
  {
   "cell_type": "code",
   "execution_count": 199,
   "metadata": {},
   "outputs": [],
   "source": [
    "trans.category = trans.category.fillna('<UNK>').astype(str)"
   ]
  },
  {
   "cell_type": "code",
   "execution_count": 200,
   "metadata": {},
   "outputs": [],
   "source": [
    "t = trans.category"
   ]
  },
  {
   "cell_type": "code",
   "execution_count": 201,
   "metadata": {},
   "outputs": [
    {
     "data": {
      "text/plain": [
       "array(['<UNK>', 'Супермаркеты', 'Разные товары', 'Транспорт', '<UNK>',\n",
       "       '<UNK>', 'Медицинские услуги', 'Супермаркеты', 'Топливо',\n",
       "       'Одежда/Обувь'], dtype=object)"
      ]
     },
     "execution_count": 201,
     "metadata": {},
     "output_type": "execute_result"
    }
   ],
   "source": [
    "t.values[10:20]"
   ]
  },
  {
   "cell_type": "code",
   "execution_count": 207,
   "metadata": {},
   "outputs": [],
   "source": [
    "cats = trans.category.unique()\n",
    "len_cats = len(cats)\n",
    "dict_cats = dict(zip(cats, range(len_cats)))"
   ]
  },
  {
   "cell_type": "code",
   "execution_count": 209,
   "metadata": {},
   "outputs": [],
   "source": [
    "trans.category = [dict_cats[elem] for elem in trans.category]"
   ]
  },
  {
   "cell_type": "code",
   "execution_count": 212,
   "metadata": {},
   "outputs": [
    {
     "data": {
      "text/plain": [
       "dict_values([0, 1, 2, 3, 4, 5, 6, 7, 8, 9, 10, 11, 12, 13, 14, 15, 16, 17, 18, 19, 20, 21, 22, 23, 24, 25, 26, 27, 28, 29, 30, 31, 32, 33, 34, 35, 36])"
      ]
     },
     "execution_count": 212,
     "metadata": {},
     "output_type": "execute_result"
    }
   ],
   "source": [
    "dict_cats.values()"
   ]
  },
  {
   "cell_type": "code",
   "execution_count": null,
   "metadata": {},
   "outputs": [],
   "source": []
  },
  {
   "cell_type": "code",
   "execution_count": null,
   "metadata": {},
   "outputs": [],
   "source": [
    "#count statistic for prediction"
   ]
  },
  {
   "cell_type": "code",
   "execution_count": null,
   "metadata": {
    "scrolled": true
   },
   "outputs": [],
   "source": [
    "data_users = []\n",
    "for user in party_tr:\n",
    "    data_ = trans[trans.party_rk == user]\n",
    "    sum_month = []\n",
    "    number_cat = np.zeros(len(dict_cats.values()))\n",
    "    num_month = len(month)-1\n",
    "    purchase_top = []\n",
    "    for i in range(num_month):\n",
    "        cond1 = pd.to_datetime(data_.transaction_dttm) >= month[i]\n",
    "        cond2 = pd.to_datetime(data_.transaction_dttm) < month[i+1]\n",
    "        data_1 = data_[(cond1 & cond2)]\n",
    "        sum_month.append(data_1.transaction_amt_rur.sum())\n",
    "        cat = data_1.category.value_counts()\n",
    "        for j in dict_cats.values():\n",
    "            if j in cat.index:\n",
    "                number_cat[j] += 1\n",
    "                #print(i)\n",
    "        #print(sorted(merch, key=merch.count, reverse = True))\n",
    "    #print(np.array(number_cat).argsort()[-5:])\n",
    "    top5 = np.array(number_cat).argsort()[-5:]\n",
    "    us_top5 = []\n",
    "    for i in range(num_month):\n",
    "        top5_sum = []\n",
    "        cond1 = pd.to_datetime(data_.transaction_dttm) >= month[i]\n",
    "        cond2 = pd.to_datetime(data_.transaction_dttm) < month[i+1]\n",
    "        data_1 = data_[(cond1 & cond2)]\n",
    "        sum_month_1 = data_1.transaction_amt_rur.sum()\n",
    "        for j in top5:\n",
    "            fromtop = data_1[data_1.category == j].transaction_amt_rur.sum()\n",
    "            top5_sum.append(fromtop)\n",
    "            \n",
    "        #print(top5_sum)\n",
    "        us_top5.append(top5_sum)\n",
    "    \n",
    "    data_users.append([np.array(number_cat).argsort()[-5:], np.mean(np.array(us_top5), axis=0), np.std(np.array(us_top5), axis=0), sum_month ])"
   ]
  },
  {
   "cell_type": "code",
   "execution_count": null,
   "metadata": {},
   "outputs": [],
   "source": [
    "def give_top_and_sum(us):\n",
    "    cat, sum_mean, sum_std, sum_month = data_users[party_tr == us]\n",
    "    limits = sum_mean + 3 * sum_std "
   ]
  },
  {
   "cell_type": "code",
   "execution_count": null,
   "metadata": {},
   "outputs": [],
   "source": []
  },
  {
   "cell_type": "code",
   "execution_count": null,
   "metadata": {},
   "outputs": [],
   "source": []
  },
  {
   "cell_type": "code",
   "execution_count": null,
   "metadata": {},
   "outputs": [],
   "source": []
  },
  {
   "cell_type": "code",
   "execution_count": null,
   "metadata": {},
   "outputs": [],
   "source": []
  },
  {
   "cell_type": "code",
   "execution_count": null,
   "metadata": {},
   "outputs": [],
   "source": [
    "#categorize the users"
   ]
  },
  {
   "cell_type": "code",
   "execution_count": 126,
   "metadata": {},
   "outputs": [
    {
     "data": {
      "text/html": [
       "<div>\n",
       "<style scoped>\n",
       "    .dataframe tbody tr th:only-of-type {\n",
       "        vertical-align: middle;\n",
       "    }\n",
       "\n",
       "    .dataframe tbody tr th {\n",
       "        vertical-align: top;\n",
       "    }\n",
       "\n",
       "    .dataframe thead th {\n",
       "        text-align: right;\n",
       "    }\n",
       "</style>\n",
       "<table border=\"1\" class=\"dataframe\">\n",
       "  <thead>\n",
       "    <tr style=\"text-align: right;\">\n",
       "      <th></th>\n",
       "      <th>party_rk</th>\n",
       "      <th>gender_cd</th>\n",
       "      <th>age</th>\n",
       "      <th>marital_status_desc</th>\n",
       "      <th>children_cnt</th>\n",
       "      <th>region_flg</th>\n",
       "    </tr>\n",
       "  </thead>\n",
       "  <tbody>\n",
       "    <tr>\n",
       "      <td>0</td>\n",
       "      <td>61243</td>\n",
       "      <td>F</td>\n",
       "      <td>70.0</td>\n",
       "      <td>NaN</td>\n",
       "      <td>0</td>\n",
       "      <td>0</td>\n",
       "    </tr>\n",
       "    <tr>\n",
       "      <td>1</td>\n",
       "      <td>66535</td>\n",
       "      <td>F</td>\n",
       "      <td>25.0</td>\n",
       "      <td>NaN</td>\n",
       "      <td>0</td>\n",
       "      <td>0</td>\n",
       "    </tr>\n",
       "    <tr>\n",
       "      <td>2</td>\n",
       "      <td>83721</td>\n",
       "      <td>M</td>\n",
       "      <td>55.0</td>\n",
       "      <td>Женат/замужем</td>\n",
       "      <td>0</td>\n",
       "      <td>0</td>\n",
       "    </tr>\n",
       "    <tr>\n",
       "      <td>3</td>\n",
       "      <td>88238</td>\n",
       "      <td>F</td>\n",
       "      <td>35.0</td>\n",
       "      <td>NaN</td>\n",
       "      <td>0</td>\n",
       "      <td>0</td>\n",
       "    </tr>\n",
       "    <tr>\n",
       "      <td>4</td>\n",
       "      <td>57179</td>\n",
       "      <td>F</td>\n",
       "      <td>30.0</td>\n",
       "      <td>Женат/замужем</td>\n",
       "      <td>0</td>\n",
       "      <td>0</td>\n",
       "    </tr>\n",
       "    <tr>\n",
       "      <td>...</td>\n",
       "      <td>...</td>\n",
       "      <td>...</td>\n",
       "      <td>...</td>\n",
       "      <td>...</td>\n",
       "      <td>...</td>\n",
       "      <td>...</td>\n",
       "    </tr>\n",
       "    <tr>\n",
       "      <td>49995</td>\n",
       "      <td>54994</td>\n",
       "      <td>M</td>\n",
       "      <td>40.0</td>\n",
       "      <td>Женат/замужем</td>\n",
       "      <td>0</td>\n",
       "      <td>0</td>\n",
       "    </tr>\n",
       "    <tr>\n",
       "      <td>49996</td>\n",
       "      <td>63391</td>\n",
       "      <td>M</td>\n",
       "      <td>35.0</td>\n",
       "      <td>Холост/не замужем</td>\n",
       "      <td>0</td>\n",
       "      <td>0</td>\n",
       "    </tr>\n",
       "    <tr>\n",
       "      <td>49997</td>\n",
       "      <td>5418</td>\n",
       "      <td>F</td>\n",
       "      <td>55.0</td>\n",
       "      <td>Холост/не замужем</td>\n",
       "      <td>0</td>\n",
       "      <td>0</td>\n",
       "    </tr>\n",
       "    <tr>\n",
       "      <td>49998</td>\n",
       "      <td>50273</td>\n",
       "      <td>F</td>\n",
       "      <td>35.0</td>\n",
       "      <td>Женат/замужем</td>\n",
       "      <td>0</td>\n",
       "      <td>0</td>\n",
       "    </tr>\n",
       "    <tr>\n",
       "      <td>49999</td>\n",
       "      <td>77268</td>\n",
       "      <td>F</td>\n",
       "      <td>35.0</td>\n",
       "      <td>NaN</td>\n",
       "      <td>0</td>\n",
       "      <td>0</td>\n",
       "    </tr>\n",
       "  </tbody>\n",
       "</table>\n",
       "<p>50000 rows × 6 columns</p>\n",
       "</div>"
      ],
      "text/plain": [
       "       party_rk gender_cd   age marital_status_desc  children_cnt  region_flg\n",
       "0         61243         F  70.0                 NaN             0           0\n",
       "1         66535         F  25.0                 NaN             0           0\n",
       "2         83721         M  55.0       Женат/замужем             0           0\n",
       "3         88238         F  35.0                 NaN             0           0\n",
       "4         57179         F  30.0       Женат/замужем             0           0\n",
       "...         ...       ...   ...                 ...           ...         ...\n",
       "49995     54994         M  40.0       Женат/замужем             0           0\n",
       "49996     63391         M  35.0   Холост/не замужем             0           0\n",
       "49997      5418         F  55.0   Холост/не замужем             0           0\n",
       "49998     50273         F  35.0       Женат/замужем             0           0\n",
       "49999     77268         F  35.0                 NaN             0           0\n",
       "\n",
       "[50000 rows x 6 columns]"
      ]
     },
     "execution_count": 126,
     "metadata": {},
     "output_type": "execute_result"
    }
   ],
   "source": [
    "soc = pd.read_csv(f\"{DATADIR}/avk_hackathon_data_party_x_socdem.csv\")\n",
    "soc"
   ]
  },
  {
   "cell_type": "code",
   "execution_count": 127,
   "metadata": {},
   "outputs": [
    {
     "data": {
      "text/html": [
       "<div>\n",
       "<style scoped>\n",
       "    .dataframe tbody tr th:only-of-type {\n",
       "        vertical-align: middle;\n",
       "    }\n",
       "\n",
       "    .dataframe tbody tr th {\n",
       "        vertical-align: top;\n",
       "    }\n",
       "\n",
       "    .dataframe thead th {\n",
       "        text-align: right;\n",
       "    }\n",
       "</style>\n",
       "<table border=\"1\" class=\"dataframe\">\n",
       "  <thead>\n",
       "    <tr style=\"text-align: right;\">\n",
       "      <th></th>\n",
       "      <th>party_rk</th>\n",
       "      <th>gender_cd</th>\n",
       "      <th>age</th>\n",
       "      <th>marital_status_desc</th>\n",
       "      <th>children_cnt</th>\n",
       "      <th>region_flg</th>\n",
       "    </tr>\n",
       "  </thead>\n",
       "  <tbody>\n",
       "    <tr>\n",
       "      <td>1285</td>\n",
       "      <td>52096</td>\n",
       "      <td>NaN</td>\n",
       "      <td>30.0</td>\n",
       "      <td>NaN</td>\n",
       "      <td>0</td>\n",
       "      <td>0</td>\n",
       "    </tr>\n",
       "    <tr>\n",
       "      <td>1616</td>\n",
       "      <td>62173</td>\n",
       "      <td>NaN</td>\n",
       "      <td>25.0</td>\n",
       "      <td>Холост/не замужем</td>\n",
       "      <td>0</td>\n",
       "      <td>0</td>\n",
       "    </tr>\n",
       "    <tr>\n",
       "      <td>5534</td>\n",
       "      <td>78758</td>\n",
       "      <td>NaN</td>\n",
       "      <td>25.0</td>\n",
       "      <td>Гражданский брак</td>\n",
       "      <td>0</td>\n",
       "      <td>0</td>\n",
       "    </tr>\n",
       "    <tr>\n",
       "      <td>10379</td>\n",
       "      <td>86443</td>\n",
       "      <td>NaN</td>\n",
       "      <td>45.0</td>\n",
       "      <td>Разведен (а)</td>\n",
       "      <td>0</td>\n",
       "      <td>0</td>\n",
       "    </tr>\n",
       "    <tr>\n",
       "      <td>15382</td>\n",
       "      <td>94159</td>\n",
       "      <td>NaN</td>\n",
       "      <td>40.0</td>\n",
       "      <td>Женат/замужем</td>\n",
       "      <td>2</td>\n",
       "      <td>0</td>\n",
       "    </tr>\n",
       "    <tr>\n",
       "      <td>20075</td>\n",
       "      <td>49175</td>\n",
       "      <td>NaN</td>\n",
       "      <td>25.0</td>\n",
       "      <td>NaN</td>\n",
       "      <td>0</td>\n",
       "      <td>0</td>\n",
       "    </tr>\n",
       "    <tr>\n",
       "      <td>24240</td>\n",
       "      <td>63068</td>\n",
       "      <td>NaN</td>\n",
       "      <td>55.0</td>\n",
       "      <td>NaN</td>\n",
       "      <td>0</td>\n",
       "      <td>0</td>\n",
       "    </tr>\n",
       "    <tr>\n",
       "      <td>25927</td>\n",
       "      <td>55736</td>\n",
       "      <td>NaN</td>\n",
       "      <td>45.0</td>\n",
       "      <td>Женат/замужем</td>\n",
       "      <td>0</td>\n",
       "      <td>0</td>\n",
       "    </tr>\n",
       "    <tr>\n",
       "      <td>41774</td>\n",
       "      <td>66523</td>\n",
       "      <td>NaN</td>\n",
       "      <td>35.0</td>\n",
       "      <td>NaN</td>\n",
       "      <td>0</td>\n",
       "      <td>0</td>\n",
       "    </tr>\n",
       "    <tr>\n",
       "      <td>47842</td>\n",
       "      <td>53585</td>\n",
       "      <td>NaN</td>\n",
       "      <td>70.0</td>\n",
       "      <td>NaN</td>\n",
       "      <td>4</td>\n",
       "      <td>1</td>\n",
       "    </tr>\n",
       "    <tr>\n",
       "      <td>48902</td>\n",
       "      <td>81403</td>\n",
       "      <td>NaN</td>\n",
       "      <td>30.0</td>\n",
       "      <td>Холост/не замужем</td>\n",
       "      <td>0</td>\n",
       "      <td>0</td>\n",
       "    </tr>\n",
       "  </tbody>\n",
       "</table>\n",
       "</div>"
      ],
      "text/plain": [
       "       party_rk gender_cd   age marital_status_desc  children_cnt  region_flg\n",
       "1285      52096       NaN  30.0                 NaN             0           0\n",
       "1616      62173       NaN  25.0   Холост/не замужем             0           0\n",
       "5534      78758       NaN  25.0    Гражданский брак             0           0\n",
       "10379     86443       NaN  45.0        Разведен (а)             0           0\n",
       "15382     94159       NaN  40.0       Женат/замужем             2           0\n",
       "20075     49175       NaN  25.0                 NaN             0           0\n",
       "24240     63068       NaN  55.0                 NaN             0           0\n",
       "25927     55736       NaN  45.0       Женат/замужем             0           0\n",
       "41774     66523       NaN  35.0                 NaN             0           0\n",
       "47842     53585       NaN  70.0                 NaN             4           1\n",
       "48902     81403       NaN  30.0   Холост/не замужем             0           0"
      ]
     },
     "execution_count": 127,
     "metadata": {},
     "output_type": "execute_result"
    }
   ],
   "source": [
    "cond1 = soc.gender_cd != 'F'\n",
    "cond2 = soc.gender_cd != 'M'\n",
    "soc[cond1 & cond2]"
   ]
  },
  {
   "cell_type": "code",
   "execution_count": 128,
   "metadata": {},
   "outputs": [],
   "source": [
    "soc.marital_status_desc = soc.marital_status_desc.fillna(\"<UNK>\").astype(str)"
   ]
  },
  {
   "cell_type": "code",
   "execution_count": 129,
   "metadata": {},
   "outputs": [],
   "source": [
    "def mapping(x, d):\n",
    "    for key, val in zip(d.keys(), d.values()):\n",
    "        if x <= val:\n",
    "            return key\n",
    "        \n",
    "def mapping1(x, d):\n",
    "    for key, val in zip(d.keys(), d.values()):\n",
    "        if x == key:\n",
    "            return val\n"
   ]
  },
  {
   "cell_type": "code",
   "execution_count": 130,
   "metadata": {},
   "outputs": [],
   "source": [
    "d_age = {1: 20, 2: 30, 3: 45, 4: 65, 5: 100}\n",
    "d_chi = {1: 0, 2: 3}\n",
    "d_gen = {\"F\": 0, \"M\": 1}\n",
    "soc['age_map'] = [mapping(i, d_age) for i in soc.age]\n",
    "soc['chi_map'] = [mapping(i, d_chi) for i in soc.children_cnt]\n",
    "soc['gen_map'] = [mapping1(i, d_gen) for i in soc.gender_cd]"
   ]
  },
  {
   "cell_type": "code",
   "execution_count": 131,
   "metadata": {},
   "outputs": [],
   "source": [
    "d_mar = {\"Женат/замужем\": 1, \"Гражданский брак\": 1, \"Разведен (а)\": 2, \"Холост/не замужем\": 3, \"Вдовец, вдова\" :2, \"Не проживает с супругом (ой)\":2, \"<UNK>\": 4}\n",
    "soc['mar_map'] = [mapping1(i, d_mar) for i in soc.marital_status_desc]"
   ]
  },
  {
   "cell_type": "code",
   "execution_count": 132,
   "metadata": {},
   "outputs": [],
   "source": [
    "m = soc.groupby(['chi_map', 'region_flg', 'gen_map', 'age_map', 'mar_map'])['party_rk'].mean()"
   ]
  },
  {
   "cell_type": "code",
   "execution_count": 133,
   "metadata": {},
   "outputs": [],
   "source": [
    "m = m.reset_index()\n",
    "m['class'] = range(1,132)\n",
    "m = m.drop(columns=['party_rk'])"
   ]
  },
  {
   "cell_type": "code",
   "execution_count": 134,
   "metadata": {},
   "outputs": [],
   "source": [
    "soc = soc.merge(m, how='left', on=['chi_map', 'region_flg', 'gen_map', 'age_map', 'mar_map'])"
   ]
  },
  {
   "cell_type": "code",
   "execution_count": 142,
   "metadata": {},
   "outputs": [],
   "source": [
    "soc[['party_rk','class']].to_csv(\"classes.csv\")"
   ]
  },
  {
   "cell_type": "code",
   "execution_count": 22,
   "metadata": {},
   "outputs": [
    {
     "data": {
      "text/plain": [
       "dict_values([20, 30, 45, 65, 100])"
      ]
     },
     "execution_count": 22,
     "metadata": {},
     "output_type": "execute_result"
    }
   ],
   "source": [
    "d_age = {1: 20, 2: 30, 3: 45, 4: 65, 5: 100}\n",
    "d_age.values()"
   ]
  },
  {
   "cell_type": "code",
   "execution_count": 25,
   "metadata": {},
   "outputs": [
    {
     "name": "stdout",
     "output_type": "stream",
     "text": [
      "1 20\n",
      "2 30\n",
      "3 45\n",
      "4 65\n",
      "5 100\n"
     ]
    }
   ],
   "source": [
    "for key, val in zip(d_age.keys(), d_age.values()):\n",
    "    print(key, val)"
   ]
  },
  {
   "cell_type": "code",
   "execution_count": null,
   "metadata": {},
   "outputs": [],
   "source": []
  },
  {
   "cell_type": "code",
   "execution_count": null,
   "metadata": {},
   "outputs": [],
   "source": []
  },
  {
   "cell_type": "code",
   "execution_count": null,
   "metadata": {},
   "outputs": [],
   "source": []
  },
  {
   "cell_type": "code",
   "execution_count": null,
   "metadata": {},
   "outputs": [],
   "source": []
  }
 ],
 "metadata": {
  "kernelspec": {
   "display_name": "Python 3",
   "language": "python",
   "name": "python3"
  },
  "language_info": {
   "codemirror_mode": {
    "name": "ipython",
    "version": 3
   },
   "file_extension": ".py",
   "mimetype": "text/x-python",
   "name": "python",
   "nbconvert_exporter": "python",
   "pygments_lexer": "ipython3",
   "version": "3.7.4"
  }
 },
 "nbformat": 4,
 "nbformat_minor": 2
}
