{
 "cells": [
  {
   "cell_type": "code",
   "execution_count": 1,
   "metadata": {},
   "outputs": [],
   "source": [
    "import os\n",
    "import json\n",
    "import pickle\n",
    "from bisect import bisect_left, bisect_right\n",
    "from datetime import datetime, timedelta\n",
    "from collections import defaultdict, Counter\n",
    "\n",
    "import numpy as np\n",
    "import pandas as pd\n",
    "from tqdm import tqdm"
   ]
  },
  {
   "cell_type": "code",
   "execution_count": 2,
   "metadata": {},
   "outputs": [
    {
     "data": {
      "text/html": [
       "<div>\n",
       "<style scoped>\n",
       "    .dataframe tbody tr th:only-of-type {\n",
       "        vertical-align: middle;\n",
       "    }\n",
       "\n",
       "    .dataframe tbody tr th {\n",
       "        vertical-align: top;\n",
       "    }\n",
       "\n",
       "    .dataframe thead th {\n",
       "        text-align: right;\n",
       "    }\n",
       "</style>\n",
       "<table border=\"1\" class=\"dataframe\">\n",
       "  <thead>\n",
       "    <tr style=\"text-align: right;\">\n",
       "      <th></th>\n",
       "      <th>party_rk</th>\n",
       "      <th>account_rk</th>\n",
       "      <th>financial_account_type_cd</th>\n",
       "      <th>transaction_dttm</th>\n",
       "      <th>transaction_type_desc</th>\n",
       "      <th>transaction_amt_rur</th>\n",
       "      <th>merchant_rk</th>\n",
       "      <th>merchant_type</th>\n",
       "      <th>merchant_group_rk</th>\n",
       "      <th>category</th>\n",
       "    </tr>\n",
       "  </thead>\n",
       "  <tbody>\n",
       "    <tr>\n",
       "      <td>0</td>\n",
       "      <td>20337</td>\n",
       "      <td>19666</td>\n",
       "      <td>1</td>\n",
       "      <td>2019-01-01</td>\n",
       "      <td>Покупка</td>\n",
       "      <td>84.00</td>\n",
       "      <td>88676.0</td>\n",
       "      <td>348.0</td>\n",
       "      <td>NaN</td>\n",
       "      <td>Сувениры</td>\n",
       "    </tr>\n",
       "    <tr>\n",
       "      <td>1</td>\n",
       "      <td>63404</td>\n",
       "      <td>72991</td>\n",
       "      <td>1</td>\n",
       "      <td>2019-01-01</td>\n",
       "      <td>Покупка</td>\n",
       "      <td>410.00</td>\n",
       "      <td>887248.0</td>\n",
       "      <td>330.0</td>\n",
       "      <td>725.0</td>\n",
       "      <td>Фаст Фуд</td>\n",
       "    </tr>\n",
       "    <tr>\n",
       "      <td>2</td>\n",
       "      <td>24789</td>\n",
       "      <td>23517</td>\n",
       "      <td>2</td>\n",
       "      <td>2019-01-01</td>\n",
       "      <td>Покупка</td>\n",
       "      <td>701.44</td>\n",
       "      <td>830014.0</td>\n",
       "      <td>291.0</td>\n",
       "      <td>NaN</td>\n",
       "      <td>Супермаркеты</td>\n",
       "    </tr>\n",
       "    <tr>\n",
       "      <td>3</td>\n",
       "      <td>57970</td>\n",
       "      <td>64838</td>\n",
       "      <td>2</td>\n",
       "      <td>2019-01-01</td>\n",
       "      <td>Покупка</td>\n",
       "      <td>6203.70</td>\n",
       "      <td>363834.0</td>\n",
       "      <td>278.0</td>\n",
       "      <td>454.0</td>\n",
       "      <td>Дом/Ремонт</td>\n",
       "    </tr>\n",
       "    <tr>\n",
       "      <td>4</td>\n",
       "      <td>12232</td>\n",
       "      <td>11591</td>\n",
       "      <td>2</td>\n",
       "      <td>2019-01-01</td>\n",
       "      <td>Покупка</td>\n",
       "      <td>734.53</td>\n",
       "      <td>85919.0</td>\n",
       "      <td>286.0</td>\n",
       "      <td>878.0</td>\n",
       "      <td>Супермаркеты</td>\n",
       "    </tr>\n",
       "  </tbody>\n",
       "</table>\n",
       "</div>"
      ],
      "text/plain": [
       "   party_rk  account_rk  financial_account_type_cd transaction_dttm  \\\n",
       "0     20337       19666                          1       2019-01-01   \n",
       "1     63404       72991                          1       2019-01-01   \n",
       "2     24789       23517                          2       2019-01-01   \n",
       "3     57970       64838                          2       2019-01-01   \n",
       "4     12232       11591                          2       2019-01-01   \n",
       "\n",
       "  transaction_type_desc  transaction_amt_rur  merchant_rk  merchant_type  \\\n",
       "0               Покупка                84.00      88676.0          348.0   \n",
       "1               Покупка               410.00     887248.0          330.0   \n",
       "2               Покупка               701.44     830014.0          291.0   \n",
       "3               Покупка              6203.70     363834.0          278.0   \n",
       "4               Покупка               734.53      85919.0          286.0   \n",
       "\n",
       "   merchant_group_rk      category  \n",
       "0                NaN      Сувениры  \n",
       "1              725.0      Фаст Фуд  \n",
       "2                NaN  Супермаркеты  \n",
       "3              454.0    Дом/Ремонт  \n",
       "4              878.0  Супермаркеты  "
      ]
     },
     "execution_count": 2,
     "metadata": {},
     "output_type": "execute_result"
    }
   ],
   "source": [
    "DATADIR = \"hackathon_data\" # \"./data\"\n",
    "transactions_path = f\"{DATADIR}/avk_hackathon_data_transactions.csv\"\n",
    "pd.read_csv(f\"{DATADIR}/avk_hackathon_data_transactions.csv\", nrows=5)"
   ]
  },
  {
   "cell_type": "code",
   "execution_count": 195,
   "metadata": {},
   "outputs": [],
   "source": [
    "trans = pd.read_csv(f\"{DATADIR}/avk_hackathon_data_transactions.csv\")"
   ]
  },
  {
   "cell_type": "code",
   "execution_count": 148,
   "metadata": {},
   "outputs": [],
   "source": [
    "data_trans_train = trans[pd.to_datetime(trans.transaction_dttm) < pd.to_datetime('2019-11-01')]"
   ]
  },
  {
   "cell_type": "code",
   "execution_count": 153,
   "metadata": {},
   "outputs": [],
   "source": [
    "month = []\n",
    "for x in range(1,10):\n",
    "    month.append(pd.to_datetime(f'2019-0{x}-01'))\n",
    "for x in range(10,13):\n",
    "    month.append(pd.to_datetime(f'2019-{x}-01'))"
   ]
  },
  {
   "cell_type": "code",
   "execution_count": 154,
   "metadata": {},
   "outputs": [],
   "source": [
    "party_tr = data_trans_train.party_rk.unique()"
   ]
  },
  {
   "cell_type": "code",
   "execution_count": 199,
   "metadata": {},
   "outputs": [],
   "source": [
    "trans.category = trans.category.fillna('<UNK>').astype(str)"
   ]
  },
  {
   "cell_type": "code",
   "execution_count": 200,
   "metadata": {},
   "outputs": [],
   "source": [
    "t = trans.category"
   ]
  },
  {
   "cell_type": "code",
   "execution_count": 201,
   "metadata": {},
   "outputs": [
    {
     "data": {
      "text/plain": [
       "array(['<UNK>', 'Супермаркеты', 'Разные товары', 'Транспорт', '<UNK>',\n",
       "       '<UNK>', 'Медицинские услуги', 'Супермаркеты', 'Топливо',\n",
       "       'Одежда/Обувь'], dtype=object)"
      ]
     },
     "execution_count": 201,
     "metadata": {},
     "output_type": "execute_result"
    }
   ],
   "source": [
    "t.values[10:20]"
   ]
  },
  {
   "cell_type": "code",
   "execution_count": 207,
   "metadata": {},
   "outputs": [],
   "source": [
    "cats = trans.category.unique()\n",
    "len_cats = len(cats)\n",
    "dict_cats = dict(zip(cats, range(len_cats)))"
   ]
  },
  {
   "cell_type": "code",
   "execution_count": 209,
   "metadata": {},
   "outputs": [],
   "source": [
    "trans.category = [dict_cats[elem] for elem in trans.category]"
   ]
  },
  {
   "cell_type": "code",
   "execution_count": 212,
   "metadata": {},
   "outputs": [
    {
     "data": {
      "text/plain": [
       "dict_values([0, 1, 2, 3, 4, 5, 6, 7, 8, 9, 10, 11, 12, 13, 14, 15, 16, 17, 18, 19, 20, 21, 22, 23, 24, 25, 26, 27, 28, 29, 30, 31, 32, 33, 34, 35, 36])"
      ]
     },
     "execution_count": 212,
     "metadata": {},
     "output_type": "execute_result"
    }
   ],
   "source": [
    "dict_cats.values()"
   ]
  },
  {
   "cell_type": "code",
   "execution_count": null,
   "metadata": {},
   "outputs": [],
   "source": []
  },
  {
   "cell_type": "code",
   "execution_count": null,
   "metadata": {},
   "outputs": [],
   "source": [
    "#count statistic for prediction"
   ]
  },
  {
   "cell_type": "code",
   "execution_count": 249,
   "metadata": {
    "scrolled": true
   },
   "outputs": [
    {
     "ename": "KeyboardInterrupt",
     "evalue": "",
     "output_type": "error",
     "traceback": [
      "\u001b[0;31m---------------------------------------------------------------------------\u001b[0m",
      "\u001b[0;31mKeyboardInterrupt\u001b[0m                         Traceback (most recent call last)",
      "\u001b[0;32m<ipython-input-249-dbeb8da11da9>\u001b[0m in \u001b[0;36m<module>\u001b[0;34m\u001b[0m\n\u001b[1;32m      7\u001b[0m     \u001b[0mpurchase_top\u001b[0m \u001b[0;34m=\u001b[0m \u001b[0;34m[\u001b[0m\u001b[0;34m]\u001b[0m\u001b[0;34m\u001b[0m\u001b[0;34m\u001b[0m\u001b[0m\n\u001b[1;32m      8\u001b[0m     \u001b[0;32mfor\u001b[0m \u001b[0mi\u001b[0m \u001b[0;32min\u001b[0m \u001b[0mrange\u001b[0m\u001b[0;34m(\u001b[0m\u001b[0mnum_month\u001b[0m\u001b[0;34m)\u001b[0m\u001b[0;34m:\u001b[0m\u001b[0;34m\u001b[0m\u001b[0;34m\u001b[0m\u001b[0m\n\u001b[0;32m----> 9\u001b[0;31m         \u001b[0mcond1\u001b[0m \u001b[0;34m=\u001b[0m \u001b[0mpd\u001b[0m\u001b[0;34m.\u001b[0m\u001b[0mto_datetime\u001b[0m\u001b[0;34m(\u001b[0m\u001b[0mdata_\u001b[0m\u001b[0;34m.\u001b[0m\u001b[0mtransaction_dttm\u001b[0m\u001b[0;34m)\u001b[0m \u001b[0;34m>=\u001b[0m \u001b[0mmonth\u001b[0m\u001b[0;34m[\u001b[0m\u001b[0mi\u001b[0m\u001b[0;34m]\u001b[0m\u001b[0;34m\u001b[0m\u001b[0;34m\u001b[0m\u001b[0m\n\u001b[0m\u001b[1;32m     10\u001b[0m         \u001b[0mcond2\u001b[0m \u001b[0;34m=\u001b[0m \u001b[0mpd\u001b[0m\u001b[0;34m.\u001b[0m\u001b[0mto_datetime\u001b[0m\u001b[0;34m(\u001b[0m\u001b[0mdata_\u001b[0m\u001b[0;34m.\u001b[0m\u001b[0mtransaction_dttm\u001b[0m\u001b[0;34m)\u001b[0m \u001b[0;34m<\u001b[0m \u001b[0mmonth\u001b[0m\u001b[0;34m[\u001b[0m\u001b[0mi\u001b[0m\u001b[0;34m+\u001b[0m\u001b[0;36m1\u001b[0m\u001b[0;34m]\u001b[0m\u001b[0;34m\u001b[0m\u001b[0;34m\u001b[0m\u001b[0m\n\u001b[1;32m     11\u001b[0m         \u001b[0mdata_1\u001b[0m \u001b[0;34m=\u001b[0m \u001b[0mdata_\u001b[0m\u001b[0;34m[\u001b[0m\u001b[0;34m(\u001b[0m\u001b[0mcond1\u001b[0m \u001b[0;34m&\u001b[0m \u001b[0mcond2\u001b[0m\u001b[0;34m)\u001b[0m\u001b[0;34m]\u001b[0m\u001b[0;34m\u001b[0m\u001b[0;34m\u001b[0m\u001b[0m\n",
      "\u001b[0;32m/usr/local/anaconda3/lib/python3.7/site-packages/pandas/util/_decorators.py\u001b[0m in \u001b[0;36mwrapper\u001b[0;34m(*args, **kwargs)\u001b[0m\n\u001b[1;32m    206\u001b[0m                 \u001b[0;32melse\u001b[0m\u001b[0;34m:\u001b[0m\u001b[0;34m\u001b[0m\u001b[0;34m\u001b[0m\u001b[0m\n\u001b[1;32m    207\u001b[0m                     \u001b[0mkwargs\u001b[0m\u001b[0;34m[\u001b[0m\u001b[0mnew_arg_name\u001b[0m\u001b[0;34m]\u001b[0m \u001b[0;34m=\u001b[0m \u001b[0mnew_arg_value\u001b[0m\u001b[0;34m\u001b[0m\u001b[0;34m\u001b[0m\u001b[0m\n\u001b[0;32m--> 208\u001b[0;31m             \u001b[0;32mreturn\u001b[0m \u001b[0mfunc\u001b[0m\u001b[0;34m(\u001b[0m\u001b[0;34m*\u001b[0m\u001b[0margs\u001b[0m\u001b[0;34m,\u001b[0m \u001b[0;34m**\u001b[0m\u001b[0mkwargs\u001b[0m\u001b[0;34m)\u001b[0m\u001b[0;34m\u001b[0m\u001b[0;34m\u001b[0m\u001b[0m\n\u001b[0m\u001b[1;32m    209\u001b[0m \u001b[0;34m\u001b[0m\u001b[0m\n\u001b[1;32m    210\u001b[0m         \u001b[0;32mreturn\u001b[0m \u001b[0mwrapper\u001b[0m\u001b[0;34m\u001b[0m\u001b[0;34m\u001b[0m\u001b[0m\n",
      "\u001b[0;32m/usr/local/anaconda3/lib/python3.7/site-packages/pandas/core/tools/datetimes.py\u001b[0m in \u001b[0;36mto_datetime\u001b[0;34m(arg, errors, dayfirst, yearfirst, utc, box, format, exact, unit, infer_datetime_format, origin, cache)\u001b[0m\n\u001b[1;32m    772\u001b[0m                 \u001b[0mresult\u001b[0m \u001b[0;34m=\u001b[0m \u001b[0mresult\u001b[0m\u001b[0;34m.\u001b[0m\u001b[0mtz_localize\u001b[0m\u001b[0;34m(\u001b[0m\u001b[0mtz\u001b[0m\u001b[0;34m)\u001b[0m\u001b[0;34m\u001b[0m\u001b[0;34m\u001b[0m\u001b[0m\n\u001b[1;32m    773\u001b[0m     \u001b[0;32melif\u001b[0m \u001b[0misinstance\u001b[0m\u001b[0;34m(\u001b[0m\u001b[0marg\u001b[0m\u001b[0;34m,\u001b[0m \u001b[0mABCSeries\u001b[0m\u001b[0;34m)\u001b[0m\u001b[0;34m:\u001b[0m\u001b[0;34m\u001b[0m\u001b[0;34m\u001b[0m\u001b[0m\n\u001b[0;32m--> 774\u001b[0;31m         \u001b[0mcache_array\u001b[0m \u001b[0;34m=\u001b[0m \u001b[0m_maybe_cache\u001b[0m\u001b[0;34m(\u001b[0m\u001b[0marg\u001b[0m\u001b[0;34m,\u001b[0m \u001b[0mformat\u001b[0m\u001b[0;34m,\u001b[0m \u001b[0mcache\u001b[0m\u001b[0;34m,\u001b[0m \u001b[0mconvert_listlike\u001b[0m\u001b[0;34m)\u001b[0m\u001b[0;34m\u001b[0m\u001b[0;34m\u001b[0m\u001b[0m\n\u001b[0m\u001b[1;32m    775\u001b[0m         \u001b[0;32mif\u001b[0m \u001b[0;32mnot\u001b[0m \u001b[0mcache_array\u001b[0m\u001b[0;34m.\u001b[0m\u001b[0mempty\u001b[0m\u001b[0;34m:\u001b[0m\u001b[0;34m\u001b[0m\u001b[0;34m\u001b[0m\u001b[0m\n\u001b[1;32m    776\u001b[0m             \u001b[0mresult\u001b[0m \u001b[0;34m=\u001b[0m \u001b[0marg\u001b[0m\u001b[0;34m.\u001b[0m\u001b[0mmap\u001b[0m\u001b[0;34m(\u001b[0m\u001b[0mcache_array\u001b[0m\u001b[0;34m)\u001b[0m\u001b[0;34m\u001b[0m\u001b[0;34m\u001b[0m\u001b[0m\n",
      "\u001b[0;32m/usr/local/anaconda3/lib/python3.7/site-packages/pandas/core/tools/datetimes.py\u001b[0m in \u001b[0;36m_maybe_cache\u001b[0;34m(arg, format, cache, convert_listlike)\u001b[0m\n\u001b[1;32m    149\u001b[0m     \u001b[0;32mif\u001b[0m \u001b[0mcache\u001b[0m\u001b[0;34m:\u001b[0m\u001b[0;34m\u001b[0m\u001b[0;34m\u001b[0m\u001b[0m\n\u001b[1;32m    150\u001b[0m         \u001b[0;31m# Perform a quicker unique check\u001b[0m\u001b[0;34m\u001b[0m\u001b[0;34m\u001b[0m\u001b[0;34m\u001b[0m\u001b[0m\n\u001b[0;32m--> 151\u001b[0;31m         \u001b[0;32mif\u001b[0m \u001b[0;32mnot\u001b[0m \u001b[0mshould_cache\u001b[0m\u001b[0;34m(\u001b[0m\u001b[0marg\u001b[0m\u001b[0;34m)\u001b[0m\u001b[0;34m:\u001b[0m\u001b[0;34m\u001b[0m\u001b[0;34m\u001b[0m\u001b[0m\n\u001b[0m\u001b[1;32m    152\u001b[0m             \u001b[0;32mreturn\u001b[0m \u001b[0mcache_array\u001b[0m\u001b[0;34m\u001b[0m\u001b[0;34m\u001b[0m\u001b[0m\n\u001b[1;32m    153\u001b[0m \u001b[0;34m\u001b[0m\u001b[0m\n",
      "\u001b[0;32m/usr/local/anaconda3/lib/python3.7/site-packages/pandas/core/tools/datetimes.py\u001b[0m in \u001b[0;36mshould_cache\u001b[0;34m(arg, unique_share, check_count)\u001b[0m\n\u001b[1;32m    119\u001b[0m     \u001b[0;32massert\u001b[0m \u001b[0;36m0\u001b[0m \u001b[0;34m<\u001b[0m \u001b[0munique_share\u001b[0m \u001b[0;34m<\u001b[0m \u001b[0;36m1\u001b[0m\u001b[0;34m,\u001b[0m \u001b[0;34m\"unique_share must be in next bounds: (0; 1)\"\u001b[0m\u001b[0;34m\u001b[0m\u001b[0;34m\u001b[0m\u001b[0m\n\u001b[1;32m    120\u001b[0m \u001b[0;34m\u001b[0m\u001b[0m\n\u001b[0;32m--> 121\u001b[0;31m     \u001b[0munique_elements\u001b[0m \u001b[0;34m=\u001b[0m \u001b[0munique\u001b[0m\u001b[0;34m(\u001b[0m\u001b[0marg\u001b[0m\u001b[0;34m[\u001b[0m\u001b[0;34m:\u001b[0m\u001b[0mcheck_count\u001b[0m\u001b[0;34m]\u001b[0m\u001b[0;34m)\u001b[0m\u001b[0;34m\u001b[0m\u001b[0;34m\u001b[0m\u001b[0m\n\u001b[0m\u001b[1;32m    122\u001b[0m     \u001b[0;32mif\u001b[0m \u001b[0mlen\u001b[0m\u001b[0;34m(\u001b[0m\u001b[0munique_elements\u001b[0m\u001b[0;34m)\u001b[0m \u001b[0;34m>\u001b[0m \u001b[0mcheck_count\u001b[0m \u001b[0;34m*\u001b[0m \u001b[0munique_share\u001b[0m\u001b[0;34m:\u001b[0m\u001b[0;34m\u001b[0m\u001b[0;34m\u001b[0m\u001b[0m\n\u001b[1;32m    123\u001b[0m         \u001b[0mdo_caching\u001b[0m \u001b[0;34m=\u001b[0m \u001b[0;32mFalse\u001b[0m\u001b[0;34m\u001b[0m\u001b[0;34m\u001b[0m\u001b[0m\n",
      "\u001b[0;32m/usr/local/anaconda3/lib/python3.7/site-packages/pandas/core/algorithms.py\u001b[0m in \u001b[0;36munique\u001b[0;34m(values)\u001b[0m\n\u001b[1;32m    404\u001b[0m     \u001b[0mtable\u001b[0m \u001b[0;34m=\u001b[0m \u001b[0mhtable\u001b[0m\u001b[0;34m(\u001b[0m\u001b[0mlen\u001b[0m\u001b[0;34m(\u001b[0m\u001b[0mvalues\u001b[0m\u001b[0;34m)\u001b[0m\u001b[0;34m)\u001b[0m\u001b[0;34m\u001b[0m\u001b[0;34m\u001b[0m\u001b[0m\n\u001b[1;32m    405\u001b[0m     \u001b[0muniques\u001b[0m \u001b[0;34m=\u001b[0m \u001b[0mtable\u001b[0m\u001b[0;34m.\u001b[0m\u001b[0munique\u001b[0m\u001b[0;34m(\u001b[0m\u001b[0mvalues\u001b[0m\u001b[0;34m)\u001b[0m\u001b[0;34m\u001b[0m\u001b[0;34m\u001b[0m\u001b[0m\n\u001b[0;32m--> 406\u001b[0;31m     \u001b[0muniques\u001b[0m \u001b[0;34m=\u001b[0m \u001b[0m_reconstruct_data\u001b[0m\u001b[0;34m(\u001b[0m\u001b[0muniques\u001b[0m\u001b[0;34m,\u001b[0m \u001b[0mdtype\u001b[0m\u001b[0;34m,\u001b[0m \u001b[0moriginal\u001b[0m\u001b[0;34m)\u001b[0m\u001b[0;34m\u001b[0m\u001b[0;34m\u001b[0m\u001b[0m\n\u001b[0m\u001b[1;32m    407\u001b[0m     \u001b[0;32mreturn\u001b[0m \u001b[0muniques\u001b[0m\u001b[0;34m\u001b[0m\u001b[0;34m\u001b[0m\u001b[0m\n\u001b[1;32m    408\u001b[0m \u001b[0;34m\u001b[0m\u001b[0m\n",
      "\u001b[0;32m/usr/local/anaconda3/lib/python3.7/site-packages/pandas/core/algorithms.py\u001b[0m in \u001b[0;36m_reconstruct_data\u001b[0;34m(values, dtype, original)\u001b[0m\n\u001b[1;32m    181\u001b[0m     \u001b[0;32mfrom\u001b[0m \u001b[0mpandas\u001b[0m \u001b[0;32mimport\u001b[0m \u001b[0mIndex\u001b[0m\u001b[0;34m\u001b[0m\u001b[0;34m\u001b[0m\u001b[0m\n\u001b[1;32m    182\u001b[0m \u001b[0;34m\u001b[0m\u001b[0m\n\u001b[0;32m--> 183\u001b[0;31m     \u001b[0;32mif\u001b[0m \u001b[0mis_extension_array_dtype\u001b[0m\u001b[0;34m(\u001b[0m\u001b[0mdtype\u001b[0m\u001b[0;34m)\u001b[0m\u001b[0;34m:\u001b[0m\u001b[0;34m\u001b[0m\u001b[0;34m\u001b[0m\u001b[0m\n\u001b[0m\u001b[1;32m    184\u001b[0m         \u001b[0mvalues\u001b[0m \u001b[0;34m=\u001b[0m \u001b[0mdtype\u001b[0m\u001b[0;34m.\u001b[0m\u001b[0mconstruct_array_type\u001b[0m\u001b[0;34m(\u001b[0m\u001b[0;34m)\u001b[0m\u001b[0;34m.\u001b[0m\u001b[0m_from_sequence\u001b[0m\u001b[0;34m(\u001b[0m\u001b[0mvalues\u001b[0m\u001b[0;34m)\u001b[0m\u001b[0;34m\u001b[0m\u001b[0;34m\u001b[0m\u001b[0m\n\u001b[1;32m    185\u001b[0m     \u001b[0;32melif\u001b[0m \u001b[0mis_datetime64tz_dtype\u001b[0m\u001b[0;34m(\u001b[0m\u001b[0mdtype\u001b[0m\u001b[0;34m)\u001b[0m \u001b[0;32mor\u001b[0m \u001b[0mis_period_dtype\u001b[0m\u001b[0;34m(\u001b[0m\u001b[0mdtype\u001b[0m\u001b[0;34m)\u001b[0m\u001b[0;34m:\u001b[0m\u001b[0;34m\u001b[0m\u001b[0;34m\u001b[0m\u001b[0m\n",
      "\u001b[0;32m/usr/local/anaconda3/lib/python3.7/site-packages/pandas/core/dtypes/common.py\u001b[0m in \u001b[0;36mis_extension_array_dtype\u001b[0;34m(arr_or_dtype)\u001b[0m\n\u001b[1;32m   1787\u001b[0m     \"\"\"\n\u001b[1;32m   1788\u001b[0m     \u001b[0mdtype\u001b[0m \u001b[0;34m=\u001b[0m \u001b[0mgetattr\u001b[0m\u001b[0;34m(\u001b[0m\u001b[0marr_or_dtype\u001b[0m\u001b[0;34m,\u001b[0m \u001b[0;34m\"dtype\"\u001b[0m\u001b[0;34m,\u001b[0m \u001b[0marr_or_dtype\u001b[0m\u001b[0;34m)\u001b[0m\u001b[0;34m\u001b[0m\u001b[0;34m\u001b[0m\u001b[0m\n\u001b[0;32m-> 1789\u001b[0;31m     \u001b[0;32mreturn\u001b[0m \u001b[0misinstance\u001b[0m\u001b[0;34m(\u001b[0m\u001b[0mdtype\u001b[0m\u001b[0;34m,\u001b[0m \u001b[0mExtensionDtype\u001b[0m\u001b[0;34m)\u001b[0m \u001b[0;32mor\u001b[0m \u001b[0mregistry\u001b[0m\u001b[0;34m.\u001b[0m\u001b[0mfind\u001b[0m\u001b[0;34m(\u001b[0m\u001b[0mdtype\u001b[0m\u001b[0;34m)\u001b[0m \u001b[0;32mis\u001b[0m \u001b[0;32mnot\u001b[0m \u001b[0;32mNone\u001b[0m\u001b[0;34m\u001b[0m\u001b[0;34m\u001b[0m\u001b[0m\n\u001b[0m\u001b[1;32m   1790\u001b[0m \u001b[0;34m\u001b[0m\u001b[0m\n\u001b[1;32m   1791\u001b[0m \u001b[0;34m\u001b[0m\u001b[0m\n",
      "\u001b[0;32m/usr/local/anaconda3/lib/python3.7/site-packages/pandas/core/dtypes/dtypes.py\u001b[0m in \u001b[0;36mfind\u001b[0;34m(self, dtype)\u001b[0m\n\u001b[1;32m    104\u001b[0m         \u001b[0;32mfor\u001b[0m \u001b[0mdtype_type\u001b[0m \u001b[0;32min\u001b[0m \u001b[0mself\u001b[0m\u001b[0;34m.\u001b[0m\u001b[0mdtypes\u001b[0m\u001b[0;34m:\u001b[0m\u001b[0;34m\u001b[0m\u001b[0;34m\u001b[0m\u001b[0m\n\u001b[1;32m    105\u001b[0m             \u001b[0;32mtry\u001b[0m\u001b[0;34m:\u001b[0m\u001b[0;34m\u001b[0m\u001b[0;34m\u001b[0m\u001b[0m\n\u001b[0;32m--> 106\u001b[0;31m                 \u001b[0;32mreturn\u001b[0m \u001b[0mdtype_type\u001b[0m\u001b[0;34m.\u001b[0m\u001b[0mconstruct_from_string\u001b[0m\u001b[0;34m(\u001b[0m\u001b[0mdtype\u001b[0m\u001b[0;34m)\u001b[0m\u001b[0;34m\u001b[0m\u001b[0;34m\u001b[0m\u001b[0m\n\u001b[0m\u001b[1;32m    107\u001b[0m             \u001b[0;32mexcept\u001b[0m \u001b[0mTypeError\u001b[0m\u001b[0;34m:\u001b[0m\u001b[0;34m\u001b[0m\u001b[0;34m\u001b[0m\u001b[0m\n\u001b[1;32m    108\u001b[0m                 \u001b[0;32mpass\u001b[0m\u001b[0;34m\u001b[0m\u001b[0;34m\u001b[0m\u001b[0m\n",
      "\u001b[0;32m/usr/local/anaconda3/lib/python3.7/site-packages/pandas/core/dtypes/base.py\u001b[0m in \u001b[0;36mconstruct_from_string\u001b[0;34m(cls, string)\u001b[0m\n\u001b[1;32m    223\u001b[0m         \u001b[0;32mif\u001b[0m \u001b[0;32mnot\u001b[0m \u001b[0misinstance\u001b[0m\u001b[0;34m(\u001b[0m\u001b[0mstring\u001b[0m\u001b[0;34m,\u001b[0m \u001b[0mstr\u001b[0m\u001b[0;34m)\u001b[0m\u001b[0;34m:\u001b[0m\u001b[0;34m\u001b[0m\u001b[0;34m\u001b[0m\u001b[0m\n\u001b[1;32m    224\u001b[0m             \u001b[0;32mraise\u001b[0m \u001b[0mTypeError\u001b[0m\u001b[0;34m(\u001b[0m\u001b[0;34m\"Expects a string, got {}\"\u001b[0m\u001b[0;34m.\u001b[0m\u001b[0mformat\u001b[0m\u001b[0;34m(\u001b[0m\u001b[0mtype\u001b[0m\u001b[0;34m(\u001b[0m\u001b[0mstring\u001b[0m\u001b[0;34m)\u001b[0m\u001b[0;34m)\u001b[0m\u001b[0;34m)\u001b[0m\u001b[0;34m\u001b[0m\u001b[0;34m\u001b[0m\u001b[0m\n\u001b[0;32m--> 225\u001b[0;31m         \u001b[0;32mif\u001b[0m \u001b[0mstring\u001b[0m \u001b[0;34m!=\u001b[0m \u001b[0mcls\u001b[0m\u001b[0;34m.\u001b[0m\u001b[0mname\u001b[0m\u001b[0;34m:\u001b[0m\u001b[0;34m\u001b[0m\u001b[0;34m\u001b[0m\u001b[0m\n\u001b[0m\u001b[1;32m    226\u001b[0m             raise TypeError(\n\u001b[1;32m    227\u001b[0m                 \u001b[0;34m\"Cannot construct a '{}' from '{}'\"\u001b[0m\u001b[0;34m.\u001b[0m\u001b[0mformat\u001b[0m\u001b[0;34m(\u001b[0m\u001b[0mcls\u001b[0m\u001b[0;34m.\u001b[0m\u001b[0m__name__\u001b[0m\u001b[0;34m,\u001b[0m \u001b[0mstring\u001b[0m\u001b[0;34m)\u001b[0m\u001b[0;34m\u001b[0m\u001b[0;34m\u001b[0m\u001b[0m\n",
      "\u001b[0;31mKeyboardInterrupt\u001b[0m: "
     ]
    }
   ],
   "source": [
    "data_users = []\n",
    "for user in party_tr:\n",
    "    data_ = trans[trans.party_rk == user]\n",
    "    sum_month = []\n",
    "    number_cat = np.zeros(len(dict_cats.values()))\n",
    "    num_month = len(month)-1\n",
    "    purchase_top = []\n",
    "    for i in range(num_month):\n",
    "        cond1 = pd.to_datetime(data_.transaction_dttm) >= month[i]\n",
    "        cond2 = pd.to_datetime(data_.transaction_dttm) < month[i+1]\n",
    "        data_1 = data_[(cond1 & cond2)]\n",
    "        sum_month.append(data_1.transaction_amt_rur.sum())\n",
    "        cat = data_1.category.value_counts()\n",
    "        for j in dict_cats.values():\n",
    "            if j in cat.index:\n",
    "                number_cat[j] += 1\n",
    "                #print(i)\n",
    "        #print(sorted(merch, key=merch.count, reverse = True))\n",
    "    #print(np.array(number_cat).argsort()[-5:])\n",
    "    top5 = np.array(number_cat).argsort()[-5:]\n",
    "    us_top5 = []\n",
    "    for i in range(num_month):\n",
    "        top5_sum = []\n",
    "        cond1 = pd.to_datetime(data_.transaction_dttm) >= month[i]\n",
    "        cond2 = pd.to_datetime(data_.transaction_dttm) < month[i+1]\n",
    "        data_1 = data_[(cond1 & cond2)]\n",
    "        sum_month_1 = data_1.transaction_amt_rur.sum()\n",
    "        for j in top5:\n",
    "            fromtop = data_1[data_1.category == j].transaction_amt_rur.sum()\n",
    "            top5_sum.append(fromtop)\n",
    "            \n",
    "        #print(top5_sum)\n",
    "        us_top5.append(top5_sum)\n",
    "    \n",
    "    data_users.append([np.array(number_cat).argsort()[-5:], np.mean(np.array(us_top5), axis=0), np.std(np.array(us_top5), axis=0), sum_month ])"
   ]
  },
  {
   "cell_type": "code",
   "execution_count": 256,
   "metadata": {},
   "outputs": [],
   "source": [
    "d_len = int(len(data_users))"
   ]
  },
  {
   "cell_type": "code",
   "execution_count": 262,
   "metadata": {},
   "outputs": [],
   "source": [
    "data_users = np.array(data_users)"
   ]
  },
  {
   "cell_type": "code",
   "execution_count": 273,
   "metadata": {},
   "outputs": [],
   "source": [
    "def give_top_and_sum(us, top_n=5):\n",
    "    cat, sum_mean, sum_std, sum_month = data_users[party_tr[:d_len] == us][0]\n",
    "    cat, sum_mean, sum_std = cat[-top_n:], sum_mean[-top_n:], sum_std[-top_n:]\n",
    "    limits = sum_mean + 3 * sum_std \n",
    "    other_lim = np.mean(sum_month) - sum(sum_mean)\n",
    "    if other_lim < 0:\n",
    "        other_lim = sum(sum_std)\n",
    "    return limits, other_lim, cat"
   ]
  },
  {
   "cell_type": "code",
   "execution_count": 286,
   "metadata": {},
   "outputs": [
    {
     "name": "stdout",
     "output_type": "stream",
     "text": [
      "User  11619 16304.304885052969 [9005.22356274439, 686.7836403635438, 2622.2938666975624, 1692.729218836561, 2297.2745964109126] [0, 0, 2622.2938666975624, 0, 0, 2640.22818181818] [ 7 13  2  6  3] [ 9138.22356274  1536.78364036  7828.2061333  54548.87921884\n",
      " 14507.79459641] 2134.4118181818194 [133.0, 850.0, 10450.5, 52856.149999999994, 12210.52] 4774.639999999999\n",
      "User  43121 16792.595284982406 [4042.111382452239, 954.8068748323361, 2823.3629845030982, 7227.856651478167, 1744.4573917165653] [4042.111382452239, 0, 2823.3629845030982, 7227.856651478167, 0, -33.99363636363205] [12  1  6 15  2] [ 753.88861755 1009.80687483 3869.6370155  7744.14334852 4298.16739172] 208.9936363636357 [4796.0, 55.0, 6693.0, 14972.0, 2553.71] 175.00000000000364\n",
      "User  4412 17497.750743042227 [2161.3320926990737, 7562.088368904391, 2675.893486303106, 4397.7314122339685, 700.7053829016877] [0, 0, 0, 0, 700.7053829016877, -219.18181818181802] [ 7 16  1  2  6] [ 2308.8320927  10136.0883689   3162.8934863   7907.13141223\n",
      " 23781.2946171 ] 283.181818181818 [147.5, 2574.0, 487.0, 3509.4, 24482.0] 64.0\n",
      "User  62038 15217.135387123411 [4386.197446210809, 2395.3375381568376, 93.8933820799939, 943.9065506561687, 7397.800470019602] [0, 0, 0, 0, 0, 12215.089999999997] [ 1 15  7  6  2] [ 4558.19744621  5258.33753816  2847.39338208  2701.90655066\n",
      " 16392.52047002] 511.0000000000009 [172.0, 2863.0, 2753.5, 1758.0, 8994.72] 12726.089999999997\n",
      "User  9240 17978.11856991399 [4499.609021293931, 7491.822758056224, 641.9679467421065, 149.69002225906706, 5195.028821562664] [4499.609021293931, 0, 641.9679467421065, 0, 0, 11293.883492727276] [ 6  2  1 22  8] [71799.49097871 14068.54275806  6153.21205326   331.69002226\n",
      "  8219.02882156] 30406.260157272736 [76299.1, 6576.72, 6795.18, 182.0, 3024.0] 41700.14365000001\n",
      "User  47416 15657.26878744351 [1200.7308702593245, 3809.6751513627255, 3823.1617048369535, 1958.266368638308, 4865.4346923462] [0, 0, 0, 0, 4865.4346923462, 20877.42272727272] [24  8  2  1  6] [ 1713.73087026  5435.07515136  6295.51170484  2470.26636864\n",
      " 68751.56530765] 7711.567272727272 [513.0, 1625.4, 2472.3500000000004, 512.0, 73617.0] 28588.98999999999\n",
      "User  32577 19459.763131039566 [1488.4252276454226, 1855.2719914707186, 11900.615826666977, 3462.573159954708, 752.8769253017426] [0, 0, 0, 0, 0, 2038.7945454545425] [11 24 15  7  2] [ 8811.42522765  2047.27199147 12517.61582667  5587.87315995\n",
      "  8678.7669253 ] 3579.205454545454 [7323.0, 192.0, 617.0, 2125.3, 7925.890000000002] 5617.999999999996\n"
     ]
    }
   ],
   "source": [
    "#check our model\n",
    "i=0\n",
    "users = []\n",
    "#choose active users\n",
    "for user in party_tr[:d_len]:\n",
    "    user_lim = 1000\n",
    "    cat, sum_mean, sum_std, sum_month = data_users[party_tr[:d_len] == user][0]\n",
    "    if sum(sum_month) > 10000:\n",
    "        users.append(user)\n",
    "        i += 1\n",
    "    if i == user_lim:\n",
    "        break\n",
    "for user in users:\n",
    "    data_ = trans[trans.party_rk == user]\n",
    "    limits, other_lim, cat = give_top_and_sum(user, 5)\n",
    "    cond1 = pd.to_datetime(data_.transaction_dttm) >= month[-1]\n",
    "    data_1 = data_[cond1]\n",
    "    err = []\n",
    "    abs_err = []\n",
    "    all_real = []\n",
    "    user_bad = 0\n",
    "    for i, cat_ in enumerate(cat):\n",
    "        real = data_1[data_1.category == cat_].transaction_amt_rur.sum()\n",
    "        if(real == 0):\n",
    "            user_bad = 1\n",
    "        all_real.append(real)\n",
    "        err_lim = real - limits[i]\n",
    "        abs_e = abs(err_lim)\n",
    "        if(err_lim < 0):\n",
    "            err_lim = 0\n",
    "        err.append(err_lim)\n",
    "        abs_err.append(abs_e)\n",
    "    other = data_1.transaction_amt_rur.sum() - sum(all_real)\n",
    "    err_oth = other - other_lim\n",
    "    err.append(err_oth)\n",
    "    if(user_bad == 0 and sum(abs_err)<20000):\n",
    "        print(\"User \", user, sum(abs_err), abs_err, err, cat, limits, other_lim, all_real, other)"
   ]
  },
  {
   "cell_type": "markdown",
   "metadata": {},
   "source": [
    "As an example: \n",
    "\n",
    "user 47416 have predicted limits in 5 categories:  1713.73087026  5435.07515136  6295.51170484  2470.26636864\n",
    " 68751.56530765\n",
    "real spending: 513.0, 1625.4, 2472.3500000000004, 512.0, 73617.0\n",
    "for other spending predicted: 7711.567272727272, real: 28588.98999999999\n",
    "What we have: good limits for top categories, prediction for other spending could be better"
   ]
  },
  {
   "cell_type": "code",
   "execution_count": 268,
   "metadata": {},
   "outputs": [
    {
     "data": {
      "text/plain": [
       "array([ 1,  2, 15,  6, 22])"
      ]
     },
     "execution_count": 268,
     "metadata": {},
     "output_type": "execute_result"
    }
   ],
   "source": [
    "data_users[party_tr[:d_len] == 20337][0][0]"
   ]
  },
  {
   "cell_type": "code",
   "execution_count": 261,
   "metadata": {},
   "outputs": [
    {
     "data": {
      "text/plain": [
       "array([ True, False, False, ..., False, False, False])"
      ]
     },
     "execution_count": 261,
     "metadata": {},
     "output_type": "execute_result"
    }
   ],
   "source": [
    "party_tr[:d_len] == 20337"
   ]
  },
  {
   "cell_type": "code",
   "execution_count": null,
   "metadata": {},
   "outputs": [],
   "source": []
  },
  {
   "cell_type": "code",
   "execution_count": null,
   "metadata": {},
   "outputs": [],
   "source": [
    "#categorize the users"
   ]
  },
  {
   "cell_type": "code",
   "execution_count": 126,
   "metadata": {},
   "outputs": [
    {
     "data": {
      "text/html": [
       "<div>\n",
       "<style scoped>\n",
       "    .dataframe tbody tr th:only-of-type {\n",
       "        vertical-align: middle;\n",
       "    }\n",
       "\n",
       "    .dataframe tbody tr th {\n",
       "        vertical-align: top;\n",
       "    }\n",
       "\n",
       "    .dataframe thead th {\n",
       "        text-align: right;\n",
       "    }\n",
       "</style>\n",
       "<table border=\"1\" class=\"dataframe\">\n",
       "  <thead>\n",
       "    <tr style=\"text-align: right;\">\n",
       "      <th></th>\n",
       "      <th>party_rk</th>\n",
       "      <th>gender_cd</th>\n",
       "      <th>age</th>\n",
       "      <th>marital_status_desc</th>\n",
       "      <th>children_cnt</th>\n",
       "      <th>region_flg</th>\n",
       "    </tr>\n",
       "  </thead>\n",
       "  <tbody>\n",
       "    <tr>\n",
       "      <td>0</td>\n",
       "      <td>61243</td>\n",
       "      <td>F</td>\n",
       "      <td>70.0</td>\n",
       "      <td>NaN</td>\n",
       "      <td>0</td>\n",
       "      <td>0</td>\n",
       "    </tr>\n",
       "    <tr>\n",
       "      <td>1</td>\n",
       "      <td>66535</td>\n",
       "      <td>F</td>\n",
       "      <td>25.0</td>\n",
       "      <td>NaN</td>\n",
       "      <td>0</td>\n",
       "      <td>0</td>\n",
       "    </tr>\n",
       "    <tr>\n",
       "      <td>2</td>\n",
       "      <td>83721</td>\n",
       "      <td>M</td>\n",
       "      <td>55.0</td>\n",
       "      <td>Женат/замужем</td>\n",
       "      <td>0</td>\n",
       "      <td>0</td>\n",
       "    </tr>\n",
       "    <tr>\n",
       "      <td>3</td>\n",
       "      <td>88238</td>\n",
       "      <td>F</td>\n",
       "      <td>35.0</td>\n",
       "      <td>NaN</td>\n",
       "      <td>0</td>\n",
       "      <td>0</td>\n",
       "    </tr>\n",
       "    <tr>\n",
       "      <td>4</td>\n",
       "      <td>57179</td>\n",
       "      <td>F</td>\n",
       "      <td>30.0</td>\n",
       "      <td>Женат/замужем</td>\n",
       "      <td>0</td>\n",
       "      <td>0</td>\n",
       "    </tr>\n",
       "    <tr>\n",
       "      <td>...</td>\n",
       "      <td>...</td>\n",
       "      <td>...</td>\n",
       "      <td>...</td>\n",
       "      <td>...</td>\n",
       "      <td>...</td>\n",
       "      <td>...</td>\n",
       "    </tr>\n",
       "    <tr>\n",
       "      <td>49995</td>\n",
       "      <td>54994</td>\n",
       "      <td>M</td>\n",
       "      <td>40.0</td>\n",
       "      <td>Женат/замужем</td>\n",
       "      <td>0</td>\n",
       "      <td>0</td>\n",
       "    </tr>\n",
       "    <tr>\n",
       "      <td>49996</td>\n",
       "      <td>63391</td>\n",
       "      <td>M</td>\n",
       "      <td>35.0</td>\n",
       "      <td>Холост/не замужем</td>\n",
       "      <td>0</td>\n",
       "      <td>0</td>\n",
       "    </tr>\n",
       "    <tr>\n",
       "      <td>49997</td>\n",
       "      <td>5418</td>\n",
       "      <td>F</td>\n",
       "      <td>55.0</td>\n",
       "      <td>Холост/не замужем</td>\n",
       "      <td>0</td>\n",
       "      <td>0</td>\n",
       "    </tr>\n",
       "    <tr>\n",
       "      <td>49998</td>\n",
       "      <td>50273</td>\n",
       "      <td>F</td>\n",
       "      <td>35.0</td>\n",
       "      <td>Женат/замужем</td>\n",
       "      <td>0</td>\n",
       "      <td>0</td>\n",
       "    </tr>\n",
       "    <tr>\n",
       "      <td>49999</td>\n",
       "      <td>77268</td>\n",
       "      <td>F</td>\n",
       "      <td>35.0</td>\n",
       "      <td>NaN</td>\n",
       "      <td>0</td>\n",
       "      <td>0</td>\n",
       "    </tr>\n",
       "  </tbody>\n",
       "</table>\n",
       "<p>50000 rows × 6 columns</p>\n",
       "</div>"
      ],
      "text/plain": [
       "       party_rk gender_cd   age marital_status_desc  children_cnt  region_flg\n",
       "0         61243         F  70.0                 NaN             0           0\n",
       "1         66535         F  25.0                 NaN             0           0\n",
       "2         83721         M  55.0       Женат/замужем             0           0\n",
       "3         88238         F  35.0                 NaN             0           0\n",
       "4         57179         F  30.0       Женат/замужем             0           0\n",
       "...         ...       ...   ...                 ...           ...         ...\n",
       "49995     54994         M  40.0       Женат/замужем             0           0\n",
       "49996     63391         M  35.0   Холост/не замужем             0           0\n",
       "49997      5418         F  55.0   Холост/не замужем             0           0\n",
       "49998     50273         F  35.0       Женат/замужем             0           0\n",
       "49999     77268         F  35.0                 NaN             0           0\n",
       "\n",
       "[50000 rows x 6 columns]"
      ]
     },
     "execution_count": 126,
     "metadata": {},
     "output_type": "execute_result"
    }
   ],
   "source": [
    "soc = pd.read_csv(f\"{DATADIR}/avk_hackathon_data_party_x_socdem.csv\")\n",
    "soc"
   ]
  },
  {
   "cell_type": "code",
   "execution_count": 127,
   "metadata": {},
   "outputs": [
    {
     "data": {
      "text/html": [
       "<div>\n",
       "<style scoped>\n",
       "    .dataframe tbody tr th:only-of-type {\n",
       "        vertical-align: middle;\n",
       "    }\n",
       "\n",
       "    .dataframe tbody tr th {\n",
       "        vertical-align: top;\n",
       "    }\n",
       "\n",
       "    .dataframe thead th {\n",
       "        text-align: right;\n",
       "    }\n",
       "</style>\n",
       "<table border=\"1\" class=\"dataframe\">\n",
       "  <thead>\n",
       "    <tr style=\"text-align: right;\">\n",
       "      <th></th>\n",
       "      <th>party_rk</th>\n",
       "      <th>gender_cd</th>\n",
       "      <th>age</th>\n",
       "      <th>marital_status_desc</th>\n",
       "      <th>children_cnt</th>\n",
       "      <th>region_flg</th>\n",
       "    </tr>\n",
       "  </thead>\n",
       "  <tbody>\n",
       "    <tr>\n",
       "      <td>1285</td>\n",
       "      <td>52096</td>\n",
       "      <td>NaN</td>\n",
       "      <td>30.0</td>\n",
       "      <td>NaN</td>\n",
       "      <td>0</td>\n",
       "      <td>0</td>\n",
       "    </tr>\n",
       "    <tr>\n",
       "      <td>1616</td>\n",
       "      <td>62173</td>\n",
       "      <td>NaN</td>\n",
       "      <td>25.0</td>\n",
       "      <td>Холост/не замужем</td>\n",
       "      <td>0</td>\n",
       "      <td>0</td>\n",
       "    </tr>\n",
       "    <tr>\n",
       "      <td>5534</td>\n",
       "      <td>78758</td>\n",
       "      <td>NaN</td>\n",
       "      <td>25.0</td>\n",
       "      <td>Гражданский брак</td>\n",
       "      <td>0</td>\n",
       "      <td>0</td>\n",
       "    </tr>\n",
       "    <tr>\n",
       "      <td>10379</td>\n",
       "      <td>86443</td>\n",
       "      <td>NaN</td>\n",
       "      <td>45.0</td>\n",
       "      <td>Разведен (а)</td>\n",
       "      <td>0</td>\n",
       "      <td>0</td>\n",
       "    </tr>\n",
       "    <tr>\n",
       "      <td>15382</td>\n",
       "      <td>94159</td>\n",
       "      <td>NaN</td>\n",
       "      <td>40.0</td>\n",
       "      <td>Женат/замужем</td>\n",
       "      <td>2</td>\n",
       "      <td>0</td>\n",
       "    </tr>\n",
       "    <tr>\n",
       "      <td>20075</td>\n",
       "      <td>49175</td>\n",
       "      <td>NaN</td>\n",
       "      <td>25.0</td>\n",
       "      <td>NaN</td>\n",
       "      <td>0</td>\n",
       "      <td>0</td>\n",
       "    </tr>\n",
       "    <tr>\n",
       "      <td>24240</td>\n",
       "      <td>63068</td>\n",
       "      <td>NaN</td>\n",
       "      <td>55.0</td>\n",
       "      <td>NaN</td>\n",
       "      <td>0</td>\n",
       "      <td>0</td>\n",
       "    </tr>\n",
       "    <tr>\n",
       "      <td>25927</td>\n",
       "      <td>55736</td>\n",
       "      <td>NaN</td>\n",
       "      <td>45.0</td>\n",
       "      <td>Женат/замужем</td>\n",
       "      <td>0</td>\n",
       "      <td>0</td>\n",
       "    </tr>\n",
       "    <tr>\n",
       "      <td>41774</td>\n",
       "      <td>66523</td>\n",
       "      <td>NaN</td>\n",
       "      <td>35.0</td>\n",
       "      <td>NaN</td>\n",
       "      <td>0</td>\n",
       "      <td>0</td>\n",
       "    </tr>\n",
       "    <tr>\n",
       "      <td>47842</td>\n",
       "      <td>53585</td>\n",
       "      <td>NaN</td>\n",
       "      <td>70.0</td>\n",
       "      <td>NaN</td>\n",
       "      <td>4</td>\n",
       "      <td>1</td>\n",
       "    </tr>\n",
       "    <tr>\n",
       "      <td>48902</td>\n",
       "      <td>81403</td>\n",
       "      <td>NaN</td>\n",
       "      <td>30.0</td>\n",
       "      <td>Холост/не замужем</td>\n",
       "      <td>0</td>\n",
       "      <td>0</td>\n",
       "    </tr>\n",
       "  </tbody>\n",
       "</table>\n",
       "</div>"
      ],
      "text/plain": [
       "       party_rk gender_cd   age marital_status_desc  children_cnt  region_flg\n",
       "1285      52096       NaN  30.0                 NaN             0           0\n",
       "1616      62173       NaN  25.0   Холост/не замужем             0           0\n",
       "5534      78758       NaN  25.0    Гражданский брак             0           0\n",
       "10379     86443       NaN  45.0        Разведен (а)             0           0\n",
       "15382     94159       NaN  40.0       Женат/замужем             2           0\n",
       "20075     49175       NaN  25.0                 NaN             0           0\n",
       "24240     63068       NaN  55.0                 NaN             0           0\n",
       "25927     55736       NaN  45.0       Женат/замужем             0           0\n",
       "41774     66523       NaN  35.0                 NaN             0           0\n",
       "47842     53585       NaN  70.0                 NaN             4           1\n",
       "48902     81403       NaN  30.0   Холост/не замужем             0           0"
      ]
     },
     "execution_count": 127,
     "metadata": {},
     "output_type": "execute_result"
    }
   ],
   "source": [
    "cond1 = soc.gender_cd != 'F'\n",
    "cond2 = soc.gender_cd != 'M'\n",
    "soc[cond1 & cond2]"
   ]
  },
  {
   "cell_type": "code",
   "execution_count": 128,
   "metadata": {},
   "outputs": [],
   "source": [
    "soc.marital_status_desc = soc.marital_status_desc.fillna(\"<UNK>\").astype(str)"
   ]
  },
  {
   "cell_type": "code",
   "execution_count": 129,
   "metadata": {},
   "outputs": [],
   "source": [
    "def mapping(x, d):\n",
    "    for key, val in zip(d.keys(), d.values()):\n",
    "        if x <= val:\n",
    "            return key\n",
    "        \n",
    "def mapping1(x, d):\n",
    "    for key, val in zip(d.keys(), d.values()):\n",
    "        if x == key:\n",
    "            return val\n"
   ]
  },
  {
   "cell_type": "code",
   "execution_count": 130,
   "metadata": {},
   "outputs": [],
   "source": [
    "d_age = {1: 20, 2: 30, 3: 45, 4: 65, 5: 100}\n",
    "d_chi = {1: 0, 2: 3}\n",
    "d_gen = {\"F\": 0, \"M\": 1}\n",
    "soc['age_map'] = [mapping(i, d_age) for i in soc.age]\n",
    "soc['chi_map'] = [mapping(i, d_chi) for i in soc.children_cnt]\n",
    "soc['gen_map'] = [mapping1(i, d_gen) for i in soc.gender_cd]"
   ]
  },
  {
   "cell_type": "code",
   "execution_count": 131,
   "metadata": {},
   "outputs": [],
   "source": [
    "d_mar = {\"Женат/замужем\": 1, \"Гражданский брак\": 1, \"Разведен (а)\": 2, \"Холост/не замужем\": 3, \"Вдовец, вдова\" :2, \"Не проживает с супругом (ой)\":2, \"<UNK>\": 4}\n",
    "soc['mar_map'] = [mapping1(i, d_mar) for i in soc.marital_status_desc]"
   ]
  },
  {
   "cell_type": "code",
   "execution_count": 132,
   "metadata": {},
   "outputs": [],
   "source": [
    "m = soc.groupby(['chi_map', 'region_flg', 'gen_map', 'age_map', 'mar_map'])['party_rk'].mean()"
   ]
  },
  {
   "cell_type": "code",
   "execution_count": 133,
   "metadata": {},
   "outputs": [],
   "source": [
    "m = m.reset_index()\n",
    "m['class'] = range(1,132)\n",
    "m = m.drop(columns=['party_rk'])"
   ]
  },
  {
   "cell_type": "code",
   "execution_count": 134,
   "metadata": {},
   "outputs": [],
   "source": [
    "soc = soc.merge(m, how='left', on=['chi_map', 'region_flg', 'gen_map', 'age_map', 'mar_map'])"
   ]
  },
  {
   "cell_type": "code",
   "execution_count": 142,
   "metadata": {},
   "outputs": [],
   "source": [
    "soc[['party_rk','class']].to_csv(\"classes.csv\")"
   ]
  },
  {
   "cell_type": "code",
   "execution_count": 22,
   "metadata": {},
   "outputs": [
    {
     "data": {
      "text/plain": [
       "dict_values([20, 30, 45, 65, 100])"
      ]
     },
     "execution_count": 22,
     "metadata": {},
     "output_type": "execute_result"
    }
   ],
   "source": [
    "d_age = {1: 20, 2: 30, 3: 45, 4: 65, 5: 100}\n",
    "d_age.values()"
   ]
  },
  {
   "cell_type": "code",
   "execution_count": 25,
   "metadata": {},
   "outputs": [
    {
     "name": "stdout",
     "output_type": "stream",
     "text": [
      "1 20\n",
      "2 30\n",
      "3 45\n",
      "4 65\n",
      "5 100\n"
     ]
    }
   ],
   "source": [
    "for key, val in zip(d_age.keys(), d_age.values()):\n",
    "    print(key, val)"
   ]
  },
  {
   "cell_type": "code",
   "execution_count": null,
   "metadata": {},
   "outputs": [],
   "source": []
  },
  {
   "cell_type": "code",
   "execution_count": null,
   "metadata": {},
   "outputs": [],
   "source": []
  },
  {
   "cell_type": "code",
   "execution_count": null,
   "metadata": {},
   "outputs": [],
   "source": []
  },
  {
   "cell_type": "code",
   "execution_count": null,
   "metadata": {},
   "outputs": [],
   "source": []
  }
 ],
 "metadata": {
  "kernelspec": {
   "display_name": "Python 3",
   "language": "python",
   "name": "python3"
  },
  "language_info": {
   "codemirror_mode": {
    "name": "ipython",
    "version": 3
   },
   "file_extension": ".py",
   "mimetype": "text/x-python",
   "name": "python",
   "nbconvert_exporter": "python",
   "pygments_lexer": "ipython3",
   "version": "3.7.4"
  }
 },
 "nbformat": 4,
 "nbformat_minor": 2
}
